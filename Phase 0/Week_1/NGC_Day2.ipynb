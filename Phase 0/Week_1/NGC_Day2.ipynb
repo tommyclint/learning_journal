{
  "cells": [
    {
      "cell_type": "code",
      "execution_count": 7,
      "metadata": {
        "colab": {
          "base_uri": "https://localhost:8080/",
          "height": 130
        },
        "id": "xcYwakqCb15h",
        "outputId": "aace0861-b895-4977-cde1-bd469ab55f75"
      },
      "outputs": [],
      "source": [
        "numbers = [951, 402, 984, 651, 360, 69, 408, 319, 601, 485, 980, 507, 725, 547, 544, 615, 83, 165, 141, 501, 263, 617, 865,\n",
        "575, 219, 390, 984, 592, 236, 105, 942, 941, 386, 462, 47, 418, 907, 344, 236, 375, 823, 566, 597, 978, 328, 615, 953, 345, \n",
        "399, 162, 758, 219, 918, 237, 412, 566, 826, 248, 866, 950, 626, 949]"
      ]
    },
    {
      "cell_type": "code",
      "execution_count": 8,
      "metadata": {},
      "outputs": [
        {
          "name": "stdout",
          "output_type": "stream",
          "text": [
            "951\n",
            "402\n",
            "984\n",
            "651\n",
            "360\n",
            "69\n",
            "408\n",
            "319\n",
            "601\n",
            "485\n",
            "980\n",
            "507\n",
            "725\n",
            "547\n",
            "544\n",
            "615\n",
            "83\n",
            "165\n",
            "141\n",
            "501\n",
            "263\n",
            "617\n",
            "865\n",
            "575\n",
            "219\n",
            "390\n",
            "984\n",
            "592\n",
            "236\n",
            "105\n",
            "942\n",
            "941\n",
            "386\n",
            "462\n",
            "47\n",
            "418\n",
            "907\n",
            "344\n",
            "236\n",
            "375\n",
            "823\n",
            "566\n",
            "597\n",
            "978\n",
            "328\n",
            "615\n",
            "953\n",
            "345\n",
            "399\n",
            "162\n",
            "758\n",
            "219\n"
          ]
        }
      ],
      "source": [
        "for x in numbers:\n",
        "  x % 2 == 0\n",
        "  if x == numbers[-10]:\n",
        "    break\n",
        "  else:\n",
        "    print(x)\n"
      ]
    },
    {
      "cell_type": "code",
      "execution_count": 6,
      "metadata": {},
      "outputs": [
        {
          "ename": "SyntaxError",
          "evalue": "'return' outside function (Temp/ipykernel_20692/3513901424.py, line 4)",
          "output_type": "error",
          "traceback": [
            "\u001b[1;36m  File \u001b[1;32m\"C:\\Users\\TOMMYC~1\\AppData\\Local\\Temp/ipykernel_20692/3513901424.py\"\u001b[1;36m, line \u001b[1;32m4\u001b[0m\n\u001b[1;33m    return x\u001b[0m\n\u001b[1;37m    ^\u001b[0m\n\u001b[1;31mSyntaxError\u001b[0m\u001b[1;31m:\u001b[0m 'return' outside function\n"
          ]
        }
      ],
      "source": [
        "list =[1,2,3,4,5,6,7,8]\n",
        "for x in list:\n",
        "    x % 2\n",
        "    return x"
      ]
    }
  ],
  "metadata": {
    "colab": {
      "name": "Untitled0.ipynb",
      "provenance": []
    },
    "kernelspec": {
      "display_name": "Python 3",
      "name": "python3"
    },
    "language_info": {
      "codemirror_mode": {
        "name": "ipython",
        "version": 3
      },
      "file_extension": ".py",
      "mimetype": "text/x-python",
      "name": "python",
      "nbconvert_exporter": "python",
      "pygments_lexer": "ipython3",
      "version": "3.9.7"
    }
  },
  "nbformat": 4,
  "nbformat_minor": 0
}
